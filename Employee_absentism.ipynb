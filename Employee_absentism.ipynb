{
  "nbformat": 4,
  "nbformat_minor": 0,
  "metadata": {
    "colab": {
      "name": "Employee_absentism.ipynb",
      "version": "0.3.2",
      "provenance": []
    },
    "kernelspec": {
      "name": "python3",
      "display_name": "Python 3"
    }
  },
  "cells": [
    {
      "cell_type": "code",
      "metadata": {
        "id": "EUbvmHXkZEnv",
        "colab_type": "code",
        "colab": {}
      },
      "source": [
        "import numpy as np\n",
        "import pandas as pd\n",
        "from sklearn.model_selection import train_test_split\n",
        "from math import sqrt\n",
        "from sklearn.metrics import mean_absolute_error\n",
        "from sklearn.metrics import mean_squared_error\n",
        "from sklearn.metrics import r2_score\n",
        "from sklearn.neighbors import KNeighborsRegressor\n",
        "import random\n",
        "from fancyimpute import KNN"
      ],
      "execution_count": 0,
      "outputs": []
    },
    {
      "cell_type": "code",
      "metadata": {
        "id": "M3zxXiUfZLqM",
        "colab_type": "code",
        "outputId": "3bcf9ac0-ea79-4305-9342-ccf3a350026a",
        "colab": {
          "resources": {
            "http://localhost:8080/nbextensions/google.colab/files.js": {
              "data": "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",
              "ok": true,
              "headers": [
                [
                  "content-type",
                  "application/javascript"
                ]
              ],
              "status": 200,
              "status_text": ""
            }
          },
          "base_uri": "https://localhost:8080/",
          "height": 75
        }
      },
      "source": [
        "from google.colab import files\n",
        "uploaded = files.upload()\n",
        "\n"
      ],
      "execution_count": 12,
      "outputs": [
        {
          "output_type": "display_data",
          "data": {
            "text/html": [
              "\n",
              "     <input type=\"file\" id=\"files-2a4b6ea9-f4ea-47c0-b802-59badf4aa202\" name=\"files[]\" multiple disabled />\n",
              "     <output id=\"result-2a4b6ea9-f4ea-47c0-b802-59badf4aa202\">\n",
              "      Upload widget is only available when the cell has been executed in the\n",
              "      current browser session. Please rerun this cell to enable.\n",
              "      </output>\n",
              "      <script src=\"/nbextensions/google.colab/files.js\"></script> "
            ],
            "text/plain": [
              "<IPython.core.display.HTML object>"
            ]
          },
          "metadata": {
            "tags": []
          }
        },
        {
          "output_type": "stream",
          "text": [
            "Saving Absenteeism_at_work_Project.xls to Absenteeism_at_work_Project (1).xls\n"
          ],
          "name": "stdout"
        }
      ]
    },
    {
      "cell_type": "code",
      "metadata": {
        "id": "QH5y2QX_ZcyP",
        "colab_type": "code",
        "outputId": "3f29344e-970b-4670-fbba-5a508acf26a9",
        "colab": {
          "base_uri": "https://localhost:8080/",
          "height": 35
        }
      },
      "source": [
        "import io\n",
        "df = pd.read_excel(io.BytesIO(uploaded['Absenteeism_at_work_Project.xls']))\n",
        "df.shape\n",
        "\n",
        "\n",
        "\n"
      ],
      "execution_count": 57,
      "outputs": [
        {
          "output_type": "execute_result",
          "data": {
            "text/plain": [
              "(740, 21)"
            ]
          },
          "metadata": {
            "tags": []
          },
          "execution_count": 57
        }
      ]
    },
    {
      "cell_type": "code",
      "metadata": {
        "id": "6LHJ1_M4BAQC",
        "colab_type": "code",
        "colab": {}
      },
      "source": [
        "######## Now we will remove the time which is zero"
      ],
      "execution_count": 0,
      "outputs": []
    },
    {
      "cell_type": "code",
      "metadata": {
        "id": "yRfO4kLIAZ5z",
        "colab_type": "code",
        "colab": {
          "base_uri": "https://localhost:8080/",
          "height": 35
        },
        "outputId": "871ac09d-cbe1-48b4-ab41-f9aa504163da"
      },
      "source": [
        "df.dtypes\n",
        "df.shape\n",
        "# df.loc[:,'Work load Average/day '].head()\n",
        "# df = df.loc[df['Absenteeism time in hours']!= 0,:]\n",
        "# df['Absenteeism time in hours']!=0\n",
        "\n"
      ],
      "execution_count": 58,
      "outputs": [
        {
          "output_type": "execute_result",
          "data": {
            "text/plain": [
              "(740, 21)"
            ]
          },
          "metadata": {
            "tags": []
          },
          "execution_count": 58
        }
      ]
    },
    {
      "cell_type": "code",
      "metadata": {
        "id": "lq76LEFFZ8EJ",
        "colab_type": "code",
        "colab": {
          "base_uri": "https://localhost:8080/",
          "height": 35
        },
        "outputId": "3b32d056-e045-466c-c123-bcaeaef50eb6"
      },
      "source": [
        "categorical_columns = ['Reason for absence', 'Month of absence', 'Day of the week',\n",
        "       'Seasons', 'Disciplinary failure', 'Education', 'Social drinker',\n",
        "       'Social smoker']\n",
        "non_categorical_columns = [i for i in df.columns if i not in categorical_columns]\n",
        "non_categorical_columns\n",
        "\n",
        "\n",
        "for i in df.columns:\n",
        "    if i in categorical_columns: \n",
        "        df[i] = pd.Categorical(df[i])\n",
        "        \n",
        "\n",
        "df.shape"
      ],
      "execution_count": 60,
      "outputs": [
        {
          "output_type": "execute_result",
          "data": {
            "text/plain": [
              "(740, 21)"
            ]
          },
          "metadata": {
            "tags": []
          },
          "execution_count": 60
        }
      ]
    },
    {
      "cell_type": "markdown",
      "metadata": {
        "id": "yQHEpeQNbCCm",
        "colab_type": "text"
      },
      "source": [
        "#### Missing Value Removal ##### "
      ]
    },
    {
      "cell_type": "code",
      "metadata": {
        "id": "LpQt2PHfayl7",
        "colab_type": "code",
        "outputId": "b75f8b7f-ec8a-4ed2-d1d8-b5a06632c17e",
        "colab": {
          "base_uri": "https://localhost:8080/",
          "height": 54
        }
      },
      "source": [
        "## Making functions of getiing the missing values of tha data_set.\n",
        "def get_percentage(dataframe_without_nan_values, original_dataframe):\n",
        "    missing_percentage = round(100 - (len(dataframe_without_nan_values)/len(original_dataframe))*100,2)\n",
        "    # Subtracted by 100 to get the original missing data and round is used to round the value upto 2 decimal places\n",
        "    return str(missing_percentage)+'% of data is missing'\n",
        "  \n",
        "dataframe_without_nan_values = df.dropna()\n",
        "print(get_percentage(dataframe_without_nan_values, df))\n",
        "df.isnull().sum()\n"
      ],
      "execution_count": 61,
      "outputs": [
        {
          "output_type": "stream",
          "text": [
            "13.65% of data is missing\n"
          ],
          "name": "stdout"
        },
        {
          "output_type": "execute_result",
          "data": {
            "text/plain": [
              "(740, 21)"
            ]
          },
          "metadata": {
            "tags": []
          },
          "execution_count": 61
        }
      ]
    },
    {
      "cell_type": "markdown",
      "metadata": {
        "id": "-uzQNDkNbXWX",
        "colab_type": "text"
      },
      "source": [
        "## Pre-Processing of the Data"
      ]
    },
    {
      "cell_type": "code",
      "metadata": {
        "id": "h-WpijczbKo_",
        "colab_type": "code",
        "outputId": "67b21d90-43f3-476c-b8f1-09ac0c220615",
        "colab": {
          "base_uri": "https://localhost:8080/",
          "height": 678
        }
      },
      "source": [
        "######################## Checking with mean,median, KNN imputation\n",
        "## Creating Columns\n",
        "columns_with_nan_values = []\n",
        "columns_without_nan_values = []\n",
        "for i in df.columns:\n",
        "    if df[i].isnull().sum() > 0:\n",
        "        columns_with_nan_values.append(i)\n",
        "    else :\n",
        "        columns_without_nan_values.append(i)\n",
        "###### Missing Value analysis and finding out the percentage of missing values ######\n",
        "\n",
        "missing_value = pd.DataFrame(df.isnull().sum()).reset_index()\n",
        "missing_value = missing_value.rename(columns = {'index': 'Variables', 0: 'Missing_values'})\n",
        "missing_value\n",
        "missing_value['Missing_percentage'] = round(missing_value['Missing_values']/len(df)*100,2) \n",
        "missing_value = missing_value.sort_values('Missing_percentage', ascending = False).reset_index(drop = True)\n",
        "missing_value"
      ],
      "execution_count": 54,
      "outputs": [
        {
          "output_type": "execute_result",
          "data": {
            "text/html": [
              "<div>\n",
              "<style scoped>\n",
              "    .dataframe tbody tr th:only-of-type {\n",
              "        vertical-align: middle;\n",
              "    }\n",
              "\n",
              "    .dataframe tbody tr th {\n",
              "        vertical-align: top;\n",
              "    }\n",
              "\n",
              "    .dataframe thead th {\n",
              "        text-align: right;\n",
              "    }\n",
              "</style>\n",
              "<table border=\"1\" class=\"dataframe\">\n",
              "  <thead>\n",
              "    <tr style=\"text-align: right;\">\n",
              "      <th></th>\n",
              "      <th>Variables</th>\n",
              "      <th>Missing_values</th>\n",
              "      <th>Missing_percentage</th>\n",
              "    </tr>\n",
              "  </thead>\n",
              "  <tbody>\n",
              "    <tr>\n",
              "      <th>0</th>\n",
              "      <td>Body mass index</td>\n",
              "      <td>29</td>\n",
              "      <td>4.12</td>\n",
              "    </tr>\n",
              "    <tr>\n",
              "      <th>1</th>\n",
              "      <td>Absenteeism time in hours</td>\n",
              "      <td>22</td>\n",
              "      <td>3.12</td>\n",
              "    </tr>\n",
              "    <tr>\n",
              "      <th>2</th>\n",
              "      <td>Height</td>\n",
              "      <td>13</td>\n",
              "      <td>1.85</td>\n",
              "    </tr>\n",
              "    <tr>\n",
              "      <th>3</th>\n",
              "      <td>Work load Average/day</td>\n",
              "      <td>10</td>\n",
              "      <td>1.42</td>\n",
              "    </tr>\n",
              "    <tr>\n",
              "      <th>4</th>\n",
              "      <td>Education</td>\n",
              "      <td>10</td>\n",
              "      <td>1.42</td>\n",
              "    </tr>\n",
              "    <tr>\n",
              "      <th>5</th>\n",
              "      <td>Transportation expense</td>\n",
              "      <td>7</td>\n",
              "      <td>0.99</td>\n",
              "    </tr>\n",
              "    <tr>\n",
              "      <th>6</th>\n",
              "      <td>Son</td>\n",
              "      <td>6</td>\n",
              "      <td>0.85</td>\n",
              "    </tr>\n",
              "    <tr>\n",
              "      <th>7</th>\n",
              "      <td>Disciplinary failure</td>\n",
              "      <td>6</td>\n",
              "      <td>0.85</td>\n",
              "    </tr>\n",
              "    <tr>\n",
              "      <th>8</th>\n",
              "      <td>Hit target</td>\n",
              "      <td>6</td>\n",
              "      <td>0.85</td>\n",
              "    </tr>\n",
              "    <tr>\n",
              "      <th>9</th>\n",
              "      <td>Social smoker</td>\n",
              "      <td>4</td>\n",
              "      <td>0.57</td>\n",
              "    </tr>\n",
              "    <tr>\n",
              "      <th>10</th>\n",
              "      <td>Age</td>\n",
              "      <td>3</td>\n",
              "      <td>0.43</td>\n",
              "    </tr>\n",
              "    <tr>\n",
              "      <th>11</th>\n",
              "      <td>Reason for absence</td>\n",
              "      <td>3</td>\n",
              "      <td>0.43</td>\n",
              "    </tr>\n",
              "    <tr>\n",
              "      <th>12</th>\n",
              "      <td>Service time</td>\n",
              "      <td>3</td>\n",
              "      <td>0.43</td>\n",
              "    </tr>\n",
              "    <tr>\n",
              "      <th>13</th>\n",
              "      <td>Distance from Residence to Work</td>\n",
              "      <td>3</td>\n",
              "      <td>0.43</td>\n",
              "    </tr>\n",
              "    <tr>\n",
              "      <th>14</th>\n",
              "      <td>Social drinker</td>\n",
              "      <td>3</td>\n",
              "      <td>0.43</td>\n",
              "    </tr>\n",
              "    <tr>\n",
              "      <th>15</th>\n",
              "      <td>Pet</td>\n",
              "      <td>2</td>\n",
              "      <td>0.28</td>\n",
              "    </tr>\n",
              "    <tr>\n",
              "      <th>16</th>\n",
              "      <td>Weight</td>\n",
              "      <td>1</td>\n",
              "      <td>0.14</td>\n",
              "    </tr>\n",
              "    <tr>\n",
              "      <th>17</th>\n",
              "      <td>Month of absence</td>\n",
              "      <td>1</td>\n",
              "      <td>0.14</td>\n",
              "    </tr>\n",
              "    <tr>\n",
              "      <th>18</th>\n",
              "      <td>Seasons</td>\n",
              "      <td>0</td>\n",
              "      <td>0.00</td>\n",
              "    </tr>\n",
              "    <tr>\n",
              "      <th>19</th>\n",
              "      <td>Day of the week</td>\n",
              "      <td>0</td>\n",
              "      <td>0.00</td>\n",
              "    </tr>\n",
              "    <tr>\n",
              "      <th>20</th>\n",
              "      <td>ID</td>\n",
              "      <td>0</td>\n",
              "      <td>0.00</td>\n",
              "    </tr>\n",
              "  </tbody>\n",
              "</table>\n",
              "</div>"
            ],
            "text/plain": [
              "                          Variables  Missing_values  Missing_percentage\n",
              "0                   Body mass index              29                4.12\n",
              "1         Absenteeism time in hours              22                3.12\n",
              "2                            Height              13                1.85\n",
              "3            Work load Average/day               10                1.42\n",
              "4                         Education              10                1.42\n",
              "5            Transportation expense               7                0.99\n",
              "6                               Son               6                0.85\n",
              "7              Disciplinary failure               6                0.85\n",
              "8                        Hit target               6                0.85\n",
              "9                     Social smoker               4                0.57\n",
              "10                              Age               3                0.43\n",
              "11               Reason for absence               3                0.43\n",
              "12                     Service time               3                0.43\n",
              "13  Distance from Residence to Work               3                0.43\n",
              "14                   Social drinker               3                0.43\n",
              "15                              Pet               2                0.28\n",
              "16                           Weight               1                0.14\n",
              "17                 Month of absence               1                0.14\n",
              "18                          Seasons               0                0.00\n",
              "19                  Day of the week               0                0.00\n",
              "20                               ID               0                0.00"
            ]
          },
          "metadata": {
            "tags": []
          },
          "execution_count": 54
        }
      ]
    },
    {
      "cell_type": "code",
      "metadata": {
        "id": "7WuPmUWwbWNS",
        "colab_type": "code",
        "outputId": "c632bf82-2d27-413c-8270-de7548ab3229",
        "colab": {
          "base_uri": "https://localhost:8080/",
          "height": 126
        }
      },
      "source": [
        "index_Number_nan = df.dropna().index\n",
        "random_number = []\n",
        "for i in range(len(columns_with_nan_values)):\n",
        "    random_number.append(random.choice(index_Number_nan))\n",
        "    \n",
        "data = df.copy()    \n",
        "for i in range(len(columns_with_nan_values)):\n",
        "    data[columns_with_nan_values[i]].loc[random_number[i]] = np.nan\n",
        "    \n",
        "actual_value = []\n",
        "mean_value = []\n",
        "median_value = []\n",
        "for i in range(len(columns_with_nan_values)):\n",
        "    actual_value.append(df[columns_with_nan_values[i]].loc[random_number[i]])\n",
        "for i in range(len(columns_with_nan_values)):\n",
        "    if columns_with_nan_values[i] in categorical_columns:\n",
        "        mean_value.append(np.nan)#Categorical data has no mean(Error occur)\n",
        "        median_value.append(np.nan)#Categorical data has no median\n",
        "    else:\n",
        "        mean_value.append(df[columns_with_nan_values[i]].mean())\n",
        "        median_value.append(df[columns_with_nan_values[i]].mean())\n",
        "        \n",
        "frame ={'Actual Value': actual_value,'Mean': mean_value, 'Median': median_value}\n",
        "data_frame = pd.DataFrame(data = frame, index = columns_with_nan_values, dtype =int)\n",
        "data_frame\n",
        "    "
      ],
      "execution_count": 62,
      "outputs": [
        {
          "output_type": "stream",
          "text": [
            "/usr/local/lib/python3.6/dist-packages/pandas/core/indexing.py:190: SettingWithCopyWarning: \n",
            "A value is trying to be set on a copy of a slice from a DataFrame\n",
            "\n",
            "See the caveats in the documentation: http://pandas.pydata.org/pandas-docs/stable/indexing.html#indexing-view-versus-copy\n",
            "  self._setitem_with_indexer(indexer, value)\n"
          ],
          "name": "stderr"
        },
        {
          "output_type": "execute_result",
          "data": {
            "text/plain": [
              "(18, 3)"
            ]
          },
          "metadata": {
            "tags": []
          },
          "execution_count": 62
        }
      ]
    },
    {
      "cell_type": "code",
      "metadata": {
        "id": "45P-nSYUboMA",
        "colab_type": "code",
        "outputId": "dec20e12-4deb-4ff5-8bb8-dcffef88b2e1",
        "colab": {
          "base_uri": "https://localhost:8080/",
          "height": 752
        }
      },
      "source": [
        "###### Imputing Data with Knn Imputation #########\n",
        "###### KNN Imputation is proving best so we are imputing it with knn #####\n",
        "\n",
        "data_KNN = KNN(k=3).fit_transform(data)\n",
        "data_KNN = pd.DataFrame(data = data_KNN, columns=data.columns)\n",
        "knn_array = []\n",
        "for i in range(len(columns_with_nan_values)):\n",
        "    knn_array.append(int(data_KNN[columns_with_nan_values[i]].loc[random_number[i]]))\n",
        "print(knn_array)    \n",
        "data_frame['KNN_3'] = knn_array\n",
        "data_frame"
      ],
      "execution_count": 63,
      "outputs": [
        {
          "output_type": "stream",
          "text": [
            "Imputing row 1/740 with 1 missing, elapsed time: 0.111\n",
            "Imputing row 101/740 with 1 missing, elapsed time: 0.113\n",
            "Imputing row 201/740 with 0 missing, elapsed time: 0.114\n",
            "Imputing row 301/740 with 0 missing, elapsed time: 0.115\n",
            "Imputing row 401/740 with 0 missing, elapsed time: 0.116\n",
            "Imputing row 501/740 with 0 missing, elapsed time: 0.116\n",
            "Imputing row 601/740 with 0 missing, elapsed time: 0.117\n",
            "Imputing row 701/740 with 0 missing, elapsed time: 0.118\n",
            "[25, 1, 288, 37, 11, 28, 323407, 92, 0, 2, 1, 0, 0, 0, 56, 170, 31, 11]\n"
          ],
          "name": "stdout"
        },
        {
          "output_type": "execute_result",
          "data": {
            "text/html": [
              "<div>\n",
              "<style scoped>\n",
              "    .dataframe tbody tr th:only-of-type {\n",
              "        vertical-align: middle;\n",
              "    }\n",
              "\n",
              "    .dataframe tbody tr th {\n",
              "        vertical-align: top;\n",
              "    }\n",
              "\n",
              "    .dataframe thead th {\n",
              "        text-align: right;\n",
              "    }\n",
              "</style>\n",
              "<table border=\"1\" class=\"dataframe\">\n",
              "  <thead>\n",
              "    <tr style=\"text-align: right;\">\n",
              "      <th></th>\n",
              "      <th>Actual Value</th>\n",
              "      <th>Mean</th>\n",
              "      <th>Median</th>\n",
              "      <th>KNN_3</th>\n",
              "    </tr>\n",
              "  </thead>\n",
              "  <tbody>\n",
              "    <tr>\n",
              "      <th>Reason for absence</th>\n",
              "      <td>23</td>\n",
              "      <td>NaN</td>\n",
              "      <td>NaN</td>\n",
              "      <td>25</td>\n",
              "    </tr>\n",
              "    <tr>\n",
              "      <th>Month of absence</th>\n",
              "      <td>7</td>\n",
              "      <td>NaN</td>\n",
              "      <td>NaN</td>\n",
              "      <td>1</td>\n",
              "    </tr>\n",
              "    <tr>\n",
              "      <th>Transportation expense</th>\n",
              "      <td>289</td>\n",
              "      <td>221.035</td>\n",
              "      <td>221.035</td>\n",
              "      <td>288</td>\n",
              "    </tr>\n",
              "    <tr>\n",
              "      <th>Distance from Residence to Work</th>\n",
              "      <td>36</td>\n",
              "      <td>29.6676</td>\n",
              "      <td>29.6676</td>\n",
              "      <td>37</td>\n",
              "    </tr>\n",
              "    <tr>\n",
              "      <th>Service time</th>\n",
              "      <td>11</td>\n",
              "      <td>12.5658</td>\n",
              "      <td>12.5658</td>\n",
              "      <td>11</td>\n",
              "    </tr>\n",
              "    <tr>\n",
              "      <th>Age</th>\n",
              "      <td>30</td>\n",
              "      <td>36.4491</td>\n",
              "      <td>36.4491</td>\n",
              "      <td>28</td>\n",
              "    </tr>\n",
              "    <tr>\n",
              "      <th>Work load Average/day</th>\n",
              "      <td>313532</td>\n",
              "      <td>271189</td>\n",
              "      <td>271189</td>\n",
              "      <td>323407</td>\n",
              "    </tr>\n",
              "    <tr>\n",
              "      <th>Hit target</th>\n",
              "      <td>93</td>\n",
              "      <td>94.5872</td>\n",
              "      <td>94.5872</td>\n",
              "      <td>92</td>\n",
              "    </tr>\n",
              "    <tr>\n",
              "      <th>Disciplinary failure</th>\n",
              "      <td>0</td>\n",
              "      <td>NaN</td>\n",
              "      <td>NaN</td>\n",
              "      <td>0</td>\n",
              "    </tr>\n",
              "    <tr>\n",
              "      <th>Education</th>\n",
              "      <td>1</td>\n",
              "      <td>NaN</td>\n",
              "      <td>NaN</td>\n",
              "      <td>2</td>\n",
              "    </tr>\n",
              "    <tr>\n",
              "      <th>Son</th>\n",
              "      <td>2</td>\n",
              "      <td>1.01771</td>\n",
              "      <td>1.01771</td>\n",
              "      <td>1</td>\n",
              "    </tr>\n",
              "    <tr>\n",
              "      <th>Social drinker</th>\n",
              "      <td>0</td>\n",
              "      <td>NaN</td>\n",
              "      <td>NaN</td>\n",
              "      <td>0</td>\n",
              "    </tr>\n",
              "    <tr>\n",
              "      <th>Social smoker</th>\n",
              "      <td>0</td>\n",
              "      <td>NaN</td>\n",
              "      <td>NaN</td>\n",
              "      <td>0</td>\n",
              "    </tr>\n",
              "    <tr>\n",
              "      <th>Pet</th>\n",
              "      <td>2</td>\n",
              "      <td>0.746612</td>\n",
              "      <td>0.746612</td>\n",
              "      <td>0</td>\n",
              "    </tr>\n",
              "    <tr>\n",
              "      <th>Weight</th>\n",
              "      <td>56</td>\n",
              "      <td>79.0636</td>\n",
              "      <td>79.0636</td>\n",
              "      <td>56</td>\n",
              "    </tr>\n",
              "    <tr>\n",
              "      <th>Height</th>\n",
              "      <td>170</td>\n",
              "      <td>172.153</td>\n",
              "      <td>172.153</td>\n",
              "      <td>170</td>\n",
              "    </tr>\n",
              "    <tr>\n",
              "      <th>Body mass index</th>\n",
              "      <td>31</td>\n",
              "      <td>26.6841</td>\n",
              "      <td>26.6841</td>\n",
              "      <td>31</td>\n",
              "    </tr>\n",
              "    <tr>\n",
              "      <th>Absenteeism time in hours</th>\n",
              "      <td>8</td>\n",
              "      <td>6.97772</td>\n",
              "      <td>6.97772</td>\n",
              "      <td>11</td>\n",
              "    </tr>\n",
              "  </tbody>\n",
              "</table>\n",
              "</div>"
            ],
            "text/plain": [
              "                                 Actual Value      Mean    Median   KNN_3\n",
              "Reason for absence                         23       NaN       NaN      25\n",
              "Month of absence                            7       NaN       NaN       1\n",
              "Transportation expense                    289   221.035   221.035     288\n",
              "Distance from Residence to Work            36   29.6676   29.6676      37\n",
              "Service time                               11   12.5658   12.5658      11\n",
              "Age                                        30   36.4491   36.4491      28\n",
              "Work load Average/day                  313532    271189    271189  323407\n",
              "Hit target                                 93   94.5872   94.5872      92\n",
              "Disciplinary failure                        0       NaN       NaN       0\n",
              "Education                                   1       NaN       NaN       2\n",
              "Son                                         2   1.01771   1.01771       1\n",
              "Social drinker                              0       NaN       NaN       0\n",
              "Social smoker                               0       NaN       NaN       0\n",
              "Pet                                         2  0.746612  0.746612       0\n",
              "Weight                                     56   79.0636   79.0636      56\n",
              "Height                                    170   172.153   172.153     170\n",
              "Body mass index                            31   26.6841   26.6841      31\n",
              "Absenteeism time in hours                   8   6.97772   6.97772      11"
            ]
          },
          "metadata": {
            "tags": []
          },
          "execution_count": 63
        }
      ]
    },
    {
      "cell_type": "code",
      "metadata": {
        "id": "TOYnU3uMFKO_",
        "colab_type": "code",
        "colab": {
          "base_uri": "https://localhost:8080/",
          "height": 163
        },
        "outputId": "90769b4d-8380-45a6-e994-b159376fe4b5"
      },
      "source": [
        "# Applying the KNN imputation over the data (k = 3)\n",
        "process_data = KNN(k=3).fit_transform(data)\n",
        "process_data = pd.DataFrame(data = process_data, columns=data.columns)\n",
        "# So, now on we will proccess further in KNN_pre_data\n",
        "# converting all the non categorical value in integer\n",
        "\n",
        "for i in process_data.columns:\n",
        "    process_data[i]= process_data[i].astype('int')\n",
        "\n",
        "for i in categorical_columns:\n",
        "    process_data[i] = pd.Categorical(process_data[i])"
      ],
      "execution_count": 72,
      "outputs": [
        {
          "output_type": "stream",
          "text": [
            "Imputing row 1/740 with 1 missing, elapsed time: 0.115\n",
            "Imputing row 101/740 with 1 missing, elapsed time: 0.116\n",
            "Imputing row 201/740 with 0 missing, elapsed time: 0.117\n",
            "Imputing row 301/740 with 0 missing, elapsed time: 0.118\n",
            "Imputing row 401/740 with 0 missing, elapsed time: 0.119\n",
            "Imputing row 501/740 with 0 missing, elapsed time: 0.120\n",
            "Imputing row 601/740 with 0 missing, elapsed time: 0.120\n",
            "Imputing row 701/740 with 0 missing, elapsed time: 0.121\n"
          ],
          "name": "stdout"
        }
      ]
    },
    {
      "cell_type": "code",
      "metadata": {
        "id": "zxVfh7zZGqaz",
        "colab_type": "code",
        "colab": {
          "base_uri": "https://localhost:8080/",
          "height": 753
        },
        "outputId": "23e3ed41-9311-4430-d98e-1f32dce0e67d"
      },
      "source": [
        "#Generating the correlation heatmap\n",
        "import matplotlib.pyplot as plt\n",
        "import seaborn as sns\n",
        "plt.figure(figsize = (15, 10))\n",
        "heat = sns.heatmap(process_data.drop(['ID'],axis=1).corr(), annot = True)\n",
        "heat.figure.savefig('Heatmap.png')"
      ],
      "execution_count": 73,
      "outputs": [
        {
          "output_type": "display_data",
          "data": {
            "image/png": "[encoded data removed]",
            "text/plain": [
              "<Figure size 1080x720 with 2 Axes>"
            ]
          },
          "metadata": {
            "tags": []
          }
        }
      ]
    },
    {
      "cell_type": "markdown",
      "metadata": {
        "id": "5kAszacLfR2x",
        "colab_type": "text"
      },
      "source": [
        "# Normalisation"
      ]
    },
    {
      "cell_type": "code",
      "metadata": {
        "id": "V01A4_Y1G7gf",
        "colab_type": "code",
        "colab": {
          "base_uri": "https://localhost:8080/",
          "height": 126
        },
        "outputId": "bd913715-cc55-4299-ffeb-2878748817e4"
      },
      "source": [
        "process_data = process_data.drop(['Height','Weight'],axis=1)\n",
        "# All the numerical data will be scaled\n",
        "scaling_col = ['Transportation expense', 'Distance from Residence to Work','Service time',\n",
        "              'Work load Average/day ', 'Hit target','Body mass index']\n",
        "for i in scaling_col:\n",
        "    process_data[i]=(process_data[i]-min(process_data[i]))/(max(process_data[i])-min(process_data[i]))\n",
        "    print(i,': Scaling Done')"
      ],
      "execution_count": 74,
      "outputs": [
        {
          "output_type": "stream",
          "text": [
            "Transportation expense : Scaling Done\n",
            "Distance from Residence to Work : Scaling Done\n",
            "Service time : Scaling Done\n",
            "Work load Average/day  : Scaling Done\n",
            "Hit target : Scaling Done\n",
            "Body mass index : Scaling Done\n"
          ],
          "name": "stdout"
        }
      ]
    },
    {
      "cell_type": "code",
      "metadata": {
        "id": "-4TX66t2bshs",
        "colab_type": "code",
        "colab": {}
      },
      "source": [
        "# Spliting the data set in train-test\n",
        "from sklearn.model_selection import train_test_split\n",
        "Pro_X = process_data.drop(['Absenteeism time in hours'], axis=1)\n",
        "Pro_Y = process_data['Absenteeism time in hours']\n",
        "X_TRAIN,X_TEST,Y_TRAIN,Y_TEST = train_test_split(Pro_X,Pro_Y, test_size=0.2)"
      ],
      "execution_count": 0,
      "outputs": []
    },
    {
      "cell_type": "code",
      "metadata": {
        "id": "IrnPQ2AkJPuU",
        "colab_type": "code",
        "colab": {}
      },
      "source": [
        "# Return MAE, MRSE, R², Adjusted R²\n",
        "def reg_acc(y_true, y_pre):\n",
        "    from math import sqrt\n",
        "    from sklearn.metrics import mean_absolute_error\n",
        "    from sklearn.metrics import mean_squared_error\n",
        "    from sklearn.metrics import r2_score\n",
        "    print (\"MSE of data: \", mean_squared_error(y_true,y_pre))\n",
        "    print (\"RMSE of data: \", sqrt(mean_squared_error(y_true,y_pre)))\n",
        "    print ('Other Parameters:')\n",
        "    print (\"R² : \", r2_score(y_true,y_pre))\n",
        "    print ('MAE:',mean_absolute_error(y_true,y_pre))"
      ],
      "execution_count": 0,
      "outputs": []
    },
    {
      "cell_type": "code",
      "metadata": {
        "id": "0izICXdiEea1",
        "colab_type": "code",
        "colab": {
          "base_uri": "https://localhost:8080/",
          "height": 108
        },
        "outputId": "45be801b-e86b-421e-fba2-2bfa1d0ec520"
      },
      "source": [
        "# Applying KNN Machine learnig algorithm\n",
        "from sklearn.neighbors import KNeighborsRegressor\n",
        "Pro_KNN_model = KNeighborsRegressor(n_neighbors=3).fit(X_TRAIN,Y_TRAIN)\n",
        "Final_KNN_predict = Pro_KNN_model.predict(X_TEST)\n",
        "reg_acc(Y_TEST,Final_KNN_predict)"
      ],
      "execution_count": 81,
      "outputs": [
        {
          "output_type": "stream",
          "text": [
            "MSE of data:  242.8656156156156\n",
            "RMSE of data:  15.584146290882142\n",
            "Other Parameters:\n",
            "R² :  -0.5580638148868422\n",
            "MAE: 5.948198198198198\n"
          ],
          "name": "stdout"
        }
      ]
    },
    {
      "cell_type": "code",
      "metadata": {
        "id": "pHzttYpkfYuZ",
        "colab_type": "code",
        "colab": {
          "base_uri": "https://localhost:8080/",
          "height": 472
        },
        "outputId": "eb0cb31b-c8f8-48dc-d55e-b1eea4f5a9c2"
      },
      "source": [
        "\n",
        "#Applying linear regression machine learning algorithm\n",
        "from sklearn.linear_model import LinearRegression\n",
        "linReg = LinearRegression().fit(X_TRAIN,Y_TRAIN)\n",
        "linear_predict = linReg.predict(X_TEST)\n",
        "reg_acc(Y_TEST,linear_predict)\n",
        "print('Intercept :',linReg.intercept_)\n",
        "print('Coefficient')\n",
        "for i,coef in zip(process_data.columns,linReg.coef_):\n",
        "    print (i,\"-->\",coef)\n"
      ],
      "execution_count": 82,
      "outputs": [
        {
          "output_type": "stream",
          "text": [
            "MSE of data:  150.58276478557738\n",
            "RMSE of data:  12.271216923580862\n",
            "Other Parameters:\n",
            "R² :  0.033961409632580875\n",
            "MAE: 5.346304189156004\n",
            "Intercept : 20.849490541071063\n",
            "Coefficient\n",
            "ID --> -0.15024695155716888\n",
            "Reason for absence --> -0.5132837517929456\n",
            "Month of absence --> -0.03608196797740202\n",
            "Day of the week --> -0.623702055138633\n",
            "Seasons --> 0.10568139793736239\n",
            "Transportation expense --> -0.09125911504952251\n",
            "Distance from Residence to Work --> -3.9788051748461553\n",
            "Service time --> -8.031148682070981\n",
            "Age --> 0.36900925672501445\n",
            "Work load Average/day  --> -1.8474787584140844\n",
            "Hit target --> 0.1344272959450329\n",
            "Disciplinary failure --> -17.098915888609618\n",
            "Education --> -2.072566515518303\n",
            "Son --> 0.6981391693700274\n",
            "Social drinker --> 1.5749191161305751\n",
            "Social smoker --> -2.1154810104437844\n",
            "Pet --> -0.40059876452847987\n",
            "Body mass index --> -9.645530552915774\n"
          ],
          "name": "stdout"
        }
      ]
    },
    {
      "cell_type": "code",
      "metadata": {
        "id": "hoCAvqxK9q4L",
        "colab_type": "code",
        "colab": {
          "base_uri": "https://localhost:8080/",
          "height": 345
        },
        "outputId": "ef8524d4-632a-4fba-d499-76b9997ea0db"
      },
      "source": [
        "\n",
        "#Applying all the different machine learning algorithm to check which produce the best result\n",
        "#################################################################\n",
        "from sklearn import tree\n",
        "Deci_tree_pre = tree.DecisionTreeRegressor().fit(X_TRAIN,Y_TRAIN).predict(X_TEST)\n",
        "print('Decision Tree ML #######################################################')\n",
        "reg_acc(Deci_tree_pre,Y_TEST)\n",
        "#################################################################\n",
        "from sklearn.ensemble import RandomForestRegressor\n",
        "Ran_for_pre = RandomForestRegressor(n_estimators=50).fit(X_TRAIN,Y_TRAIN).predict(X_TEST)\n",
        "print('Random Forest ML #######################################################')\n",
        "reg_acc(Ran_for_pre,Y_TEST)\n",
        "#################################################################\n",
        "from sklearn.naive_bayes import GaussianNB\n",
        "print('Naive Bayes ############################################################')\n",
        "NB_pre = GaussianNB().fit(X_TRAIN,Y_TRAIN).predict(X_TEST)\n",
        "reg_acc(NB_pre,Y_TEST)\n",
        "\n"
      ],
      "execution_count": 84,
      "outputs": [
        {
          "output_type": "stream",
          "text": [
            "Decision Tree ML #######################################################\n",
            "MSE of data:  520.7331081081081\n",
            "RMSE of data:  22.819577299067312\n",
            "Other Parameters:\n",
            "R² :  -0.27360546578491274\n",
            "MAE: 8.628378378378379\n",
            "Random Forest ML #######################################################\n",
            "MSE of data:  226.59410908382367\n",
            "RMSE of data:  15.053043183483654\n",
            "Other Parameters:\n",
            "R² :  -1.065774626940573\n",
            "MAE: 5.824479729729731\n",
            "Naive Bayes ############################################################\n",
            "MSE of data:  964.6216216216217\n",
            "RMSE of data:  31.058358321418435\n",
            "Other Parameters:\n",
            "R² :  -0.626014167953632\n",
            "MAE: 18.7027027027027\n"
          ],
          "name": "stdout"
        }
      ]
    },
    {
      "cell_type": "code",
      "metadata": {
        "id": "4i5lfRjB9rZ1",
        "colab_type": "code",
        "colab": {}
      },
      "source": [
        "list_mae,list_mse,list_r2,num=[],[],[],[]\n",
        "for i in range(50):\n",
        "    if i%2!=0:\n",
        "        dummy_KNN = KNeighborsRegressor(n_neighbors=i).fit(X_TRAIN,Y_TRAIN).predict(X_TEST)\n",
        "        num.append(i)\n",
        "        list_mae.append(mean_absolute_error(dummy_KNN,Y_TEST))\n",
        "        list_mse.append(mean_squared_error(dummy_KNN,Y_TEST))\n",
        "        list_r2.append(r2_score(dummy_KNN,Y_TEST))"
      ],
      "execution_count": 0,
      "outputs": []
    },
    {
      "cell_type": "code",
      "metadata": {
        "id": "LQuc5hGSKqVd",
        "colab_type": "code",
        "colab": {
          "base_uri": "https://localhost:8080/",
          "height": 324
        },
        "outputId": "4dc72215-3a04-4388-e25c-bf00b9412565"
      },
      "source": [
        "sns.lineplot(x=num,y=list_mae)\n",
        "print('*********** M A E ***********')\n",
        "print('Kth Value:',num[list_mae.index(min(list_mae))])\n",
        "print('Lowest MAE Value:',min(list_mae))"
      ],
      "execution_count": 86,
      "outputs": [
        {
          "output_type": "stream",
          "text": [
            "*********** M A E ***********\n",
            "Kth Value: 31\n",
            "Lowest MAE Value: 4.905187445510025\n"
          ],
          "name": "stdout"
        },
        {
          "output_type": "display_data",
          "data": {
            "image/png": "[encoded data removed]",
            "text/plain": [
              "<Figure size 432x288 with 1 Axes>"
            ]
          },
          "metadata": {
            "tags": []
          }
        }
      ]
    },
    {
      "cell_type": "code",
      "metadata": {
        "id": "ziCXjKGbKspW",
        "colab_type": "code",
        "colab": {
          "base_uri": "https://localhost:8080/",
          "height": 324
        },
        "outputId": "dea6ed19-5b81-4b62-b421-124e80ae8e17"
      },
      "source": [
        "sns.lineplot(x=num,y=list_mse)\n",
        "print('*********** M S E ***********')\n",
        "print('Kth Value:',num[list_mse.index(min(list_mse))])\n",
        "print('Lowest MSE Value:',min(list_mse))"
      ],
      "execution_count": 87,
      "outputs": [
        {
          "output_type": "stream",
          "text": [
            "*********** M S E ***********\n",
            "Kth Value: 35\n",
            "Lowest MSE Value: 147.7565140650855\n"
          ],
          "name": "stdout"
        },
        {
          "output_type": "display_data",
          "data": {
            "image/png": "[encoded data removed]",
            "text/plain": [
              "<Figure size 432x288 with 1 Axes>"
            ]
          },
          "metadata": {
            "tags": []
          }
        }
      ]
    },
    {
      "cell_type": "code",
      "metadata": {
        "id": "kd753agZKyZt",
        "colab_type": "code",
        "colab": {}
      },
      "source": [
        ""
      ],
      "execution_count": 0,
      "outputs": []
    },
    {
      "cell_type": "code",
      "metadata": {
        "id": "7mhtnto0MG6y",
        "colab_type": "code",
        "colab": {}
      },
      "source": [
        ""
      ],
      "execution_count": 0,
      "outputs": []
    },
    {
      "cell_type": "code",
      "metadata": {
        "id": "HfSRSCJ1L3HG",
        "colab_type": "code",
        "colab": {}
      },
      "source": [
        ""
      ],
      "execution_count": 0,
      "outputs": []
    },
    {
      "cell_type": "code",
      "metadata": {
        "id": "xi_EAjsFL6ci",
        "colab_type": "code",
        "colab": {}
      },
      "source": [
        ""
      ],
      "execution_count": 0,
      "outputs": []
    }
  ]
}